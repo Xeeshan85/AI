{
 "cells": [
  {
   "cell_type": "code",
   "execution_count": 70,
   "metadata": {},
   "outputs": [
    {
     "name": "stdout",
     "output_type": "stream",
     "text": [
      "\n",
      "██    █\n",
      "██ ██ █\n",
      "█B █  █\n",
      "█ ██ ██\n",
      "     ██\n",
      "A██████\n",
      "\n",
      "\n",
      "██****█\n",
      "██*██*█\n",
      "█B*█**█\n",
      "█ ██*██\n",
      "*****██\n",
      "A██████\n",
      "\n"
     ]
    },
    {
     "data": {
      "text/plain": [
       "16"
      ]
     },
     "execution_count": 70,
     "metadata": {},
     "output_type": "execute_result"
    }
   ],
   "source": [
    "from collections import deque\n",
    "\n",
    "# append for pushing elements && .pop() for poping elemnts\n",
    "Stack = deque() \n",
    "\n",
    "# append for enFrontier elements && .popleft() for DeFrontier elemnts\n",
    "Frontier = deque() \n",
    "\n",
    "class Maze():\n",
    "    def __init__(self, filename, algorithm):\n",
    "        self.BFS = False\n",
    "        self.DFS = False\n",
    "        if algorithm == 'BFS':\n",
    "            self.BFS = True\n",
    "        elif algorithm == 'DFS':\n",
    "            self.DFS = True\n",
    "        else:\n",
    "            raise Exception('Invalid Algorithm')\n",
    "        \n",
    "        with open(filename) as f:\n",
    "            contents = f.read()\n",
    "        \n",
    "        if contents.count(\"A\") != 1:\n",
    "            raise Exception(\"MAZE should have only one start\")\n",
    "        if contents.count(\"B\") != 1:\n",
    "            raise Exception (\"MAZE should have only one Goal\")\n",
    "        \n",
    "        contents = contents.splitlines()\n",
    "        self.height = len(contents)\n",
    "        self.width = max(len(line) for line in contents)\n",
    "\n",
    "        self.walls = []\n",
    "        for i in range(self.height):\n",
    "            cells = []\n",
    "            for j in range(self.width):\n",
    "                try:\n",
    "                    if contents[i][j] == \"A\":\n",
    "                        self.start = (i, j)\n",
    "                        cells.append(False)\n",
    "                    elif contents[i][j] == \"B\":\n",
    "                        self.goal = (i, j)\n",
    "                        cells.append(False)\n",
    "                    elif contents[i][j] == \" \":\n",
    "                        cells.append(False)\n",
    "                    else:\n",
    "                        cells.append(True)\n",
    "                except IndexError:\n",
    "                    cells.append(False)\n",
    "            self.walls.append(cells)\n",
    "        self.solution = None\n",
    "\n",
    "    def print(self):\n",
    "        solution = self.solution if self.solution is not None else None\n",
    "        print()\n",
    "        for i, rows in enumerate(self.walls):\n",
    "            for j, col in enumerate(rows):\n",
    "                if col:\n",
    "                    print(\"█\", end=\"\")\n",
    "                elif (i, j) == self.start:\n",
    "                    print(\"A\", end = \"\")\n",
    "                elif (i, j) == self.goal:\n",
    "                    print(\"B\", end = \"\")\n",
    "                elif solution is not None and (i, j) in solution:\n",
    "                    print(\"*\", end = \"\")\n",
    "                else:\n",
    "                    print(\" \", end = \"\")\n",
    "            print()\n",
    "        print()\n",
    "\n",
    "    def neighbours(self, state):\n",
    "        row, col = state\n",
    "        # Directions  (up,      down,   left,    right)\n",
    "        directions = [(-1, 0), (1, 0), (0, -1), (0, 1)]\n",
    "\n",
    "        result = []\n",
    "        for (r, c) in directions:\n",
    "            r = r + row\n",
    "            c = c + col\n",
    "            if 0 <= r < self.height and 0 <= c < self.width and not self.walls[r][c]:\n",
    "                result.append((r, c))\n",
    "        return result\n",
    "    \n",
    "    \n",
    "    def solve(self):\n",
    "        self.numExplored = 0\n",
    "\n",
    "        Frontier = deque()\n",
    "        Frontier.append((self.start, None))\n",
    "\n",
    "        self.explored = set()\n",
    "        while True:\n",
    "            if not Frontier:\n",
    "                raise Exception(\"Empty Frontier\")\n",
    "            \n",
    "            node, parent = None, None\n",
    "            if self.BFS:\n",
    "                node, parent = Frontier.popleft()\n",
    "            elif self.DFS:\n",
    "                node, parent = Frontier.pop()\n",
    "            \n",
    "            if node == self.goal:\n",
    "                cell = []\n",
    "                while parent is not None:\n",
    "                    cell.append(node)\n",
    "                    node, parent = parent\n",
    "                cell.reverse()\n",
    "                self.solution = cell\n",
    "                return\n",
    "            \n",
    "            self.explored.add(node)\n",
    "            self.numExplored += 1\n",
    "\n",
    "            for neighbor in self.neighbours(node):\n",
    "                if neighbor not in self.explored and neighbor not in [n[0] for n in Frontier]:\n",
    "                    Frontier.append((neighbor, (node, parent)))\n",
    "\n",
    "\n",
    "m = Maze(\"maze3.txt\", 'DFS')\n",
    "m.print()\n",
    "m.solve()\n",
    "m.print()\n",
    "m.numExplored"
   ]
  },
  {
   "cell_type": "code",
   "execution_count": 20,
   "metadata": {},
   "outputs": [
    {
     "data": {
      "text/plain": [
       "6"
      ]
     },
     "execution_count": 20,
     "metadata": {},
     "output_type": "execute_result"
    }
   ],
   "source": [
    "Stack.append(1)\n",
    "Stack.append(2)\n",
    "Stack.append(3)\n",
    "len(Stack)"
   ]
  },
  {
   "cell_type": "code",
   "execution_count": 22,
   "metadata": {},
   "outputs": [
    {
     "data": {
      "text/plain": [
       "deque([1, 2, 3, 1, 2, 3])"
      ]
     },
     "execution_count": 22,
     "metadata": {},
     "output_type": "execute_result"
    }
   ],
   "source": [
    "Stack"
   ]
  }
 ],
 "metadata": {
  "kernelspec": {
   "display_name": "Python 3",
   "language": "python",
   "name": "python3"
  },
  "language_info": {
   "codemirror_mode": {
    "name": "ipython",
    "version": 3
   },
   "file_extension": ".py",
   "mimetype": "text/x-python",
   "name": "python",
   "nbconvert_exporter": "python",
   "pygments_lexer": "ipython3",
   "version": "3.11.5"
  }
 },
 "nbformat": 4,
 "nbformat_minor": 2
}
