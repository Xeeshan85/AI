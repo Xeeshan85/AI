{
 "cells": [
  {
   "cell_type": "markdown",
   "metadata": {},
   "source": [
    "### HILL CLIMBING"
   ]
  },
  {
   "cell_type": "code",
   "execution_count": 1,
   "metadata": {},
   "outputs": [
    {
     "name": "stdout",
     "output_type": "stream",
     "text": [
      "Iteration 1: Total Cost = 400, Maximum Rating = 7.3\n",
      "Iteration 2: Total Cost = 200, Maximum Rating = 4.2\n",
      "Best sequence of feature improvements: ['feature4', 'feature5'] 550 8.3\n"
     ]
    }
   ],
   "source": [
    "import random\n",
    "\n",
    "features = {\n",
    "    \"feature1\": {\"cost\": 100, \"rating\": 3.5},\n",
    "    \"feature2\": {\"cost\": 200, \"rating\": 4.2},\n",
    "    \"feature3\": {\"cost\": 150, \"rating\": 4.0},\n",
    "    \"feature4\": {\"cost\": 300, \"rating\": 3.8},\n",
    "    \"feature5\": {\"cost\": 250, \"rating\": 4.5},\n",
    "    \"feature6\": {\"cost\": 350, \"rating\": 3.6}\n",
    "}\n",
    "\n",
    "# Budget for feature improvements\n",
    "budget = 1000\n",
    "\n",
    "# Evaluation function to calculate the overall rating after a feature improvement\n",
    "def evaluate(state):\n",
    "    total_cost = sum(features[f][\"cost\"] for f in state)\n",
    "    totc= total_cost\n",
    "    if total_cost > budget:\n",
    "        return 0\n",
    "    total_rating = sum(features[f][\"rating\"] for f in state)\n",
    "    return total_rating, totc\n",
    "\n",
    "# Hill climbing algorithm to find the best sequence of feature improvements\n",
    "def hill_climbing(max_iter=100):\n",
    "    best_state = None\n",
    "    best_score = 0\n",
    "    bestC = 0\n",
    "    \n",
    "    for iteration in range(max_iter):\n",
    "        # Start with a random initial state\n",
    "        current_state = random.sample(list(features.keys()), random.randint(1, len(features)))\n",
    "        # Generate neighboring states with total cost within budget\n",
    "        neighbors = []\n",
    "        for feature in current_state:\n",
    "            new_state = current_state.copy()\n",
    "            new_state.remove(feature)\n",
    "            for new_feature in features.keys():\n",
    "                if new_feature not in new_state:\n",
    "                    neighbor_state = new_state + [new_feature]\n",
    "                    neighbor_cost = sum(features[f][\"cost\"] for f in neighbor_state)\n",
    "                    if neighbor_cost <= budget:\n",
    "                        neighbors.append(neighbor_state)\n",
    "        \n",
    "        # Print total cost and maximum rating in each iteration\n",
    "        max_rating = sum(features[f][\"rating\"] for f in current_state)\n",
    "        total_cost = sum(features[f][\"cost\"] for f in current_state)\n",
    "        print(f\"Iteration {iteration + 1}: Total Cost = {total_cost}, Maximum Rating = {max_rating}\")\n",
    "\n",
    "        # Evaluate neighboring states and select the one with the highest score\n",
    "        # print('N', neighbors)\n",
    "        best_neighbor = None\n",
    "        best_neighbor_score = 0\n",
    "        bestCost = 0\n",
    "        for neighbor in neighbors:\n",
    "            score, cost = evaluate(neighbor)\n",
    "            if score > best_neighbor_score:\n",
    "                best_neighbor = neighbor\n",
    "                best_neighbor_score = score\n",
    "                bestCost = cost\n",
    "\n",
    "        # Check if the best neighbor improves the evaluation function\n",
    "        if best_neighbor_score > best_score:\n",
    "            best_state = best_neighbor\n",
    "            best_score = best_neighbor_score\n",
    "            bestC = bestCost\n",
    "        else:\n",
    "            break  # Exit the loop if no improvement is found\n",
    "\n",
    "    return best_state, bestC, best_score\n",
    "\n",
    "# Run the hill climbing algorithm and print the best sequence of feature improvements\n",
    "best_state, s, rat = hill_climbing()\n",
    "print(\"Best sequence of feature improvements:\", best_state, s, rat)\n"
   ]
  },
  {
   "cell_type": "markdown",
   "metadata": {},
   "source": [
    "### N-QUEENS"
   ]
  },
  {
   "cell_type": "code",
   "execution_count": 2,
   "metadata": {},
   "outputs": [
    {
     "name": "stdout",
     "output_type": "stream",
     "text": [
      ". Q . . \n",
      ". . . Q \n",
      "Q . . . \n",
      ". . Q . \n",
      "\n",
      "\n",
      ". . Q . \n",
      "Q . . . \n",
      ". . . Q \n",
      ". Q . . \n",
      "\n",
      "\n"
     ]
    }
   ],
   "source": [
    "from constraint import Problem, AllDifferentConstraint\n",
    "\n",
    "def n_queens(n):\n",
    "    problem = Problem()\n",
    "    columns = range(n)\n",
    "    \n",
    "    # Add variables\n",
    "    problem.addVariables(columns, columns)\n",
    "    \n",
    "    # Add row constraint (all different)\n",
    "    problem.addConstraint(AllDifferentConstraint(), columns)\n",
    "    \n",
    "    # Add diagonal constraints (all different)\n",
    "    problem.addConstraint(lambda *args: len(args) == len(set(args[i] + i for i in range(len(args)))), columns)\n",
    "    problem.addConstraint(lambda *args: len(args) == len(set(args[i] - i for i in range(len(args)))), columns)\n",
    "    \n",
    "    solutions = problem.getSolutions()\n",
    "    \n",
    "    # Print solutions\n",
    "    for solution in solutions:\n",
    "        for row in range(n):\n",
    "            line = \"\"\n",
    "            for col in range(n):\n",
    "                if solution[col] == row:\n",
    "                    line += \"Q \"\n",
    "                else:\n",
    "                    line += \". \"\n",
    "            print(line)\n",
    "        print(\"\\n\")\n",
    "\n",
    "# Example usage for 8-queens\n",
    "n_queens(4)\n"
   ]
  },
  {
   "cell_type": "code",
   "execution_count": 5,
   "metadata": {},
   "outputs": [
    {
     "name": "stdout",
     "output_type": "stream",
     "text": [
      "Q . . . . . . .\n",
      ". . . . . . Q .\n",
      ". . . . Q . . .\n",
      ". . . . . . . Q\n",
      ". Q . . . . . .\n",
      ". . . Q . . . .\n",
      ". . . . . Q . .\n",
      ". . Q . . . . .\n"
     ]
    },
    {
     "data": {
      "text/plain": [
       "True"
      ]
     },
     "execution_count": 5,
     "metadata": {},
     "output_type": "execute_result"
    }
   ],
   "source": [
    "def is_safe(board, row, col, n):\n",
    "    # Check this row on left side\n",
    "    for i in range(col):\n",
    "        if board[row][i] == 1:\n",
    "            return False\n",
    "    \n",
    "    # Check upper diagonal on left side\n",
    "    for i, j in zip(range(row, -1, -1), range(col, -1, -1)):\n",
    "        if board[i][j] == 1:\n",
    "            return False\n",
    "    \n",
    "    # Check lower diagonal on left side\n",
    "    for i, j in zip(range(row, n, 1), range(col, -1, -1)):\n",
    "        if board[i][j] == 1:\n",
    "            return False\n",
    "    \n",
    "    return True\n",
    "\n",
    "def solve_n_queens_util(board, col, n):\n",
    "    # If all queens are placed, return true\n",
    "    if col >= n:\n",
    "        return True\n",
    "    \n",
    "    # Try placing the queen in all rows one by one\n",
    "    for i in range(n):\n",
    "        if is_safe(board, i, col, n):\n",
    "            # Place this queen in board[i][col]\n",
    "            board[i][col] = 1\n",
    "            \n",
    "            # Recur to place the rest of the queens\n",
    "            if solve_n_queens_util(board, col + 1, n):\n",
    "                return True\n",
    "            \n",
    "            # If placing queen in board[i][col] doesn't lead to a solution\n",
    "            # then remove the queen (backtrack)\n",
    "            board[i][col] = 0\n",
    "    \n",
    "    # If the queen cannot be placed in any row in this column, return false\n",
    "    return False\n",
    "\n",
    "def solve_n_queens(n):\n",
    "    board = [[0 for _ in range(n)] for _ in range(n)]\n",
    "    \n",
    "    if not solve_n_queens_util(board, 0, n):\n",
    "        print(\"Solution does not exist\")\n",
    "        return False\n",
    "    \n",
    "    # Print the solution\n",
    "    for row in board:\n",
    "        print(\" \".join(\"Q\" if x == 1 else \".\" for x in row))\n",
    "    return True\n",
    "\n",
    "# Example usage for 8-queens\n",
    "solve_n_queens(8)\n"
   ]
  },
  {
   "cell_type": "markdown",
   "metadata": {},
   "source": [
    "### GRAPH COLORING\n"
   ]
  },
  {
   "cell_type": "code",
   "execution_count": 3,
   "metadata": {},
   "outputs": [
    {
     "name": "stdout",
     "output_type": "stream",
     "text": [
      "{'B': 2, 'C': 1, 'A': 0, 'D': 0}\n",
      "{'B': 2, 'C': 0, 'A': 1, 'D': 1}\n",
      "{'B': 1, 'C': 2, 'A': 0, 'D': 0}\n",
      "{'B': 1, 'C': 0, 'A': 2, 'D': 2}\n",
      "{'B': 0, 'C': 1, 'A': 2, 'D': 2}\n",
      "{'B': 0, 'C': 2, 'A': 1, 'D': 1}\n"
     ]
    }
   ],
   "source": [
    "from constraint import Problem, AllDifferentConstraint\n",
    "\n",
    "def graph_coloring(nodes, edges, num_colors):\n",
    "    problem = Problem()\n",
    "    \n",
    "    # Define colors\n",
    "    colors = range(num_colors)\n",
    "    \n",
    "    # Add variables\n",
    "    problem.addVariables(nodes, colors)\n",
    "    \n",
    "    # Add edge constraints (no two adjacent nodes have the same color)\n",
    "    for (node1, node2) in edges:\n",
    "        problem.addConstraint(lambda n1, n2: n1 != n2, (node1, node2))\n",
    "    \n",
    "    # Find solutions\n",
    "    solutions = problem.getSolutions()\n",
    "    \n",
    "    # Print solutions\n",
    "    for solution in solutions:\n",
    "        print(solution)\n",
    "\n",
    "# Example usage\n",
    "nodes = ['A', 'B', 'C', 'D']\n",
    "edges = [('A', 'B'), ('A', 'C'), ('B', 'C'), ('B', 'D'), ('C', 'D')]\n",
    "num_colors = 3\n",
    "\n",
    "graph_coloring(nodes, edges, num_colors)\n"
   ]
  },
  {
   "cell_type": "markdown",
   "metadata": {},
   "source": [
    "### LAB TASK"
   ]
  },
  {
   "cell_type": "code",
   "execution_count": 6,
   "metadata": {},
   "outputs": [
    {
     "name": "stdout",
     "output_type": "stream",
     "text": [
      "{'A': [1, 4], 'B': [2], 'C': [3]}\n"
     ]
    }
   ],
   "source": [
    "def is_valid_assignment(assignment, package, city, capacities, allowed_cities):\n",
    "    # Check if the city is allowed for this package\n",
    "    if city not in allowed_cities[package]:\n",
    "        return False\n",
    "    \n",
    "    # Count the number of packages assigned to each city\n",
    "    city_count = {c: 0 for c in capacities.keys()}\n",
    "    for p, c in assignment.items():\n",
    "        city_count[c] += 1\n",
    "\n",
    "    # Check if assigning this package to the city exceeds the city's capacity\n",
    "    if city_count[city] >= capacities[city]:\n",
    "        return False\n",
    "\n",
    "    return True\n",
    "\n",
    "def backtrack(packages, cities, capacities, allowed_cities, assignment, index):\n",
    "    if index == len(packages):\n",
    "        return assignment\n",
    "\n",
    "    package = packages[index]\n",
    "    for city in cities:\n",
    "        if is_valid_assignment(assignment, package, city, capacities, allowed_cities):\n",
    "            assignment[package] = city\n",
    "            result = backtrack(packages, cities, capacities, allowed_cities, assignment, index + 1)\n",
    "            if result:\n",
    "                return result\n",
    "            del assignment[package]\n",
    "\n",
    "    return None\n",
    "\n",
    "def solve_delivery_problem(packages, cities, capacities, allowed_cities):\n",
    "    assignment = {}\n",
    "    return backtrack(packages, cities, capacities, allowed_cities, assignment, 0)\n",
    "\n",
    "# Example input data\n",
    "packages = [1, 2, 3, 4]\n",
    "cities = ['A', 'B', 'C']\n",
    "capacities = {'A': 2, 'B': 3, 'C': 1}\n",
    "allowed_cities = {\n",
    "    1: ['A', 'B'],\n",
    "    2: ['B', 'C'],\n",
    "    3: ['A', 'C'],\n",
    "    4: ['A']\n",
    "}\n",
    "\n",
    "assignment = solve_delivery_problem(packages, cities, capacities, allowed_cities)\n",
    "if assignment:\n",
    "    result = {city: [p for p, c in assignment.items() if c == city] for city in cities}\n",
    "    print(result)\n",
    "else:\n",
    "    print(\"No feasible assignment found\")\n"
   ]
  },
  {
   "cell_type": "markdown",
   "metadata": {},
   "source": [
    "### X"
   ]
  },
  {
   "cell_type": "code",
   "execution_count": null,
   "metadata": {},
   "outputs": [],
   "source": []
  }
 ],
 "metadata": {
  "kernelspec": {
   "display_name": "Python 3",
   "language": "python",
   "name": "python3"
  },
  "language_info": {
   "codemirror_mode": {
    "name": "ipython",
    "version": 3
   },
   "file_extension": ".py",
   "mimetype": "text/x-python",
   "name": "python",
   "nbconvert_exporter": "python",
   "pygments_lexer": "ipython3",
   "version": "3.11.5"
  }
 },
 "nbformat": 4,
 "nbformat_minor": 2
}
